{
 "cells": [
  {
   "cell_type": "code",
   "execution_count": 1,
   "metadata": {},
   "outputs": [],
   "source": [
    "import pandas as pd\n",
    "import numpy as np\n",
    "import lightgbm as lgb\n",
    "from sklearn.model_selection import train_test_split\n",
    "from sklearn.preprocessing import LabelEncoder\n",
    "import re\n",
    "import datetime\n",
    "from nltk.corpus import stopwords\n",
    "from nltk.stem.snowball import SnowballStemmer\n",
    "from sklearn.feature_extraction.text import CountVectorizer\n",
    "\n",
    "pd.set_option('display.max_colwidth',100)\n",
    "import pickle"
   ]
  },
  {
   "cell_type": "code",
   "execution_count": 2,
   "metadata": {},
   "outputs": [],
   "source": [
    "\n",
    "train = pd.read_csv(\"train.csv\")\n",
    "test = pd.read_csv(\"test.csv\")\n",
    "proj_ids = test['project_id']"
   ]
  },
  {
   "cell_type": "code",
   "execution_count": 3,
   "metadata": {},
   "outputs": [
    {
     "data": {
      "text/plain": [
       "project_id               0.000000\n",
       "name                     0.000028\n",
       "desc                     0.000083\n",
       "goal                     0.000000\n",
       "keywords                 0.000000\n",
       "disable_communication    0.000000\n",
       "country                  0.000000\n",
       "currency                 0.000000\n",
       "deadline                 0.000000\n",
       "state_changed_at         0.000000\n",
       "created_at               0.000000\n",
       "launched_at              0.000000\n",
       "backers_count            0.000000\n",
       "final_status             0.000000\n",
       "dtype: float64"
      ]
     },
     "execution_count": 3,
     "metadata": {},
     "output_type": "execute_result"
    }
   ],
   "source": [
    "# to check the missing value in column\n",
    "train.isnull().sum(axis=0)/train.shape[0]"
   ]
  },
  {
   "cell_type": "code",
   "execution_count": 4,
   "metadata": {},
   "outputs": [],
   "source": [
    "\n",
    "unix_cols = ['deadline','state_changed_at','launched_at','created_at']\n",
    "\n",
    "for x in unix_cols:\n",
    "    train[x] = train[x].apply(lambda k: datetime.datetime.fromtimestamp(int(k)).strftime('%Y-%m-%d %H:%M:%S'))\n",
    "    test[x] = test[x].apply(lambda k: datetime.datetime.fromtimestamp(int(k)).strftime('%Y-%m-%d %H:%M:%S'))"
   ]
  },
  {
   "cell_type": "code",
   "execution_count": 5,
   "metadata": {},
   "outputs": [],
   "source": [
    "cols_to_use = ['name','desc']\n",
    "len_feats = ['name_len','desc_len']\n",
    "count_feats = ['name_count','desc_count']\n",
    "\n",
    "for i in np.arange(2):\n",
    "    train[len_feats[i]] = train[cols_to_use[i]].apply(str).apply(len)\n",
    "    test[len_feats[i]] = test[cols_to_use[i]].apply(str).apply(len)"
   ]
  },
  {
   "cell_type": "code",
   "execution_count": 6,
   "metadata": {},
   "outputs": [],
   "source": [
    "train['name_count'] = train['name'].str.split().str.len()\n",
    "train['desc_count'] = train['desc'].str.split().str.len()\n",
    "\n",
    "test['name_count'] = test['name'].str.split().str.len()\n",
    "test['desc_count'] = test['desc'].str.split().str.len()"
   ]
  },
  {
   "cell_type": "code",
   "execution_count": 7,
   "metadata": {},
   "outputs": [],
   "source": [
    "train['keywords_len'] = train['keywords'].str.len()\n",
    "train['keywords_count'] = train['keywords'].str.split('-').str.len()\n",
    "\n",
    "test['keywords_len'] = test['keywords'].str.len()\n",
    "test['keywords_count'] = test['keywords'].str.split('-').str.len()"
   ]
  },
  {
   "cell_type": "code",
   "execution_count": 8,
   "metadata": {},
   "outputs": [],
   "source": [
    "\n",
    "unix_cols = ['deadline','state_changed_at','launched_at','created_at']\n",
    "\n",
    "for x in unix_cols:\n",
    "    train[x] = train[x].apply(lambda k: datetime.datetime.strptime(k, '%Y-%m-%d %H:%M:%S'))\n",
    "    test[x] = test[x].apply(lambda k: datetime.datetime.strptime(k, '%Y-%m-%d %H:%M:%S'))"
   ]
  },
  {
   "cell_type": "code",
   "execution_count": 9,
   "metadata": {},
   "outputs": [],
   "source": [
    "time1 = []\n",
    "time3 = []\n",
    "for i in np.arange(train.shape[0]):\n",
    "    time1.append(np.round((train.loc[i, 'launched_at'] - train.loc[i, 'created_at']).total_seconds()).astype(int))\n",
    "    time3.append(np.round((train.loc[i, 'deadline'] - train.loc[i, 'launched_at']).total_seconds()).astype(int))"
   ]
  },
  {
   "cell_type": "code",
   "execution_count": 10,
   "metadata": {},
   "outputs": [],
   "source": [
    "train['time1'] = np.log(time1)\n",
    "train['time3'] = np.log(time3)"
   ]
  },
  {
   "cell_type": "code",
   "execution_count": 11,
   "metadata": {},
   "outputs": [],
   "source": [
    "time5 = []\n",
    "time6 = []\n",
    "for i in np.arange(test.shape[0]):\n",
    "    time5.append(np.round((test.loc[i, 'launched_at'] - test.loc[i, 'created_at']).total_seconds()).astype(int))\n",
    "    time6.append(np.round((test.loc[i, 'deadline'] - test.loc[i, 'launched_at']).total_seconds()).astype(int))"
   ]
  },
  {
   "cell_type": "code",
   "execution_count": 12,
   "metadata": {},
   "outputs": [],
   "source": [
    "test['time1'] = np.log(time5)\n",
    "test['time3'] = np.log(time6)"
   ]
  },
  {
   "cell_type": "code",
   "execution_count": 13,
   "metadata": {},
   "outputs": [],
   "source": [
    "feat = ['disable_communication','country']"
   ]
  },
  {
   "cell_type": "code",
   "execution_count": 14,
   "metadata": {},
   "outputs": [],
   "source": [
    "for x in feat:\n",
    "    le = LabelEncoder()\n",
    "    le.fit(list(train[x].values) + list(test[x].values))\n",
    "    train[x] = le.transform(list(train[x]))\n",
    "    test[x] = le.transform(list(test[x]))\n",
    "    "
   ]
  },
  {
   "cell_type": "code",
   "execution_count": 15,
   "metadata": {},
   "outputs": [
    {
     "data": {
      "text/html": [
       "<div>\n",
       "<style scoped>\n",
       "    .dataframe tbody tr th:only-of-type {\n",
       "        vertical-align: middle;\n",
       "    }\n",
       "\n",
       "    .dataframe tbody tr th {\n",
       "        vertical-align: top;\n",
       "    }\n",
       "\n",
       "    .dataframe thead th {\n",
       "        text-align: right;\n",
       "    }\n",
       "</style>\n",
       "<table border=\"1\" class=\"dataframe\">\n",
       "  <thead>\n",
       "    <tr style=\"text-align: right;\">\n",
       "      <th></th>\n",
       "      <th>project_id</th>\n",
       "      <th>name</th>\n",
       "      <th>desc</th>\n",
       "      <th>goal</th>\n",
       "      <th>keywords</th>\n",
       "      <th>disable_communication</th>\n",
       "      <th>country</th>\n",
       "      <th>currency</th>\n",
       "      <th>deadline</th>\n",
       "      <th>state_changed_at</th>\n",
       "      <th>...</th>\n",
       "      <th>backers_count</th>\n",
       "      <th>final_status</th>\n",
       "      <th>name_len</th>\n",
       "      <th>desc_len</th>\n",
       "      <th>name_count</th>\n",
       "      <th>desc_count</th>\n",
       "      <th>keywords_len</th>\n",
       "      <th>keywords_count</th>\n",
       "      <th>time1</th>\n",
       "      <th>time3</th>\n",
       "    </tr>\n",
       "  </thead>\n",
       "  <tbody>\n",
       "    <tr>\n",
       "      <th>0</th>\n",
       "      <td>kkst1451568084</td>\n",
       "      <td>drawing for dollars</td>\n",
       "      <td>I like drawing pictures. and then i color them too. so i thought i would suggest something for m...</td>\n",
       "      <td>20.0</td>\n",
       "      <td>drawing-for-dollars</td>\n",
       "      <td>0</td>\n",
       "      <td>20</td>\n",
       "      <td>USD</td>\n",
       "      <td>2009-05-03 12:29:59</td>\n",
       "      <td>2009-05-03 12:30:17</td>\n",
       "      <td>...</td>\n",
       "      <td>3</td>\n",
       "      <td>1</td>\n",
       "      <td>19</td>\n",
       "      <td>134</td>\n",
       "      <td>3.0</td>\n",
       "      <td>26.0</td>\n",
       "      <td>19</td>\n",
       "      <td>3</td>\n",
       "      <td>7.703459</td>\n",
       "      <td>13.502546</td>\n",
       "    </tr>\n",
       "    <tr>\n",
       "      <th>1</th>\n",
       "      <td>kkst1474482071</td>\n",
       "      <td>Sponsor Dereck Blackburn (Lostwars) Artist in Residence in Kankakee Illinois</td>\n",
       "      <td>I, Dereck Blackburn will be taking upon an incredible journey in the month of May 2009. I will b...</td>\n",
       "      <td>300.0</td>\n",
       "      <td>sponsor-dereck-blackburn-lostwars-artist-in-residence-in-kankakee-illinois</td>\n",
       "      <td>0</td>\n",
       "      <td>20</td>\n",
       "      <td>USD</td>\n",
       "      <td>2009-05-16 04:40:00</td>\n",
       "      <td>2009-05-16 05:30:18</td>\n",
       "      <td>...</td>\n",
       "      <td>2</td>\n",
       "      <td>0</td>\n",
       "      <td>76</td>\n",
       "      <td>137</td>\n",
       "      <td>10.0</td>\n",
       "      <td>25.0</td>\n",
       "      <td>74</td>\n",
       "      <td>10</td>\n",
       "      <td>9.640043</td>\n",
       "      <td>14.189422</td>\n",
       "    </tr>\n",
       "    <tr>\n",
       "      <th>2</th>\n",
       "      <td>kkst183622197</td>\n",
       "      <td>Mr. Squiggles</td>\n",
       "      <td>So I saw darkpony's successfully funded drawing for dollars project and I thought \"\"\"\"\"\"\"\"\"\"\"\"\"\"...</td>\n",
       "      <td>30.0</td>\n",
       "      <td>mr-squiggles</td>\n",
       "      <td>0</td>\n",
       "      <td>20</td>\n",
       "      <td>USD</td>\n",
       "      <td>2009-05-23 02:56:00</td>\n",
       "      <td>2009-05-23 03:00:18</td>\n",
       "      <td>...</td>\n",
       "      <td>0</td>\n",
       "      <td>0</td>\n",
       "      <td>13</td>\n",
       "      <td>385</td>\n",
       "      <td>2.0</td>\n",
       "      <td>22.0</td>\n",
       "      <td>12</td>\n",
       "      <td>2</td>\n",
       "      <td>6.665684</td>\n",
       "      <td>13.668358</td>\n",
       "    </tr>\n",
       "    <tr>\n",
       "      <th>3</th>\n",
       "      <td>kkst597742710</td>\n",
       "      <td>Help me write my second novel.</td>\n",
       "      <td>Do your part to help out starving artists and help me write my second novel!\\r\\n\\r\\nI have just ...</td>\n",
       "      <td>500.0</td>\n",
       "      <td>help-me-write-my-second-novel</td>\n",
       "      <td>0</td>\n",
       "      <td>20</td>\n",
       "      <td>USD</td>\n",
       "      <td>2009-05-29 05:39:00</td>\n",
       "      <td>2009-05-29 05:45:21</td>\n",
       "      <td>...</td>\n",
       "      <td>18</td>\n",
       "      <td>1</td>\n",
       "      <td>30</td>\n",
       "      <td>131</td>\n",
       "      <td>6.0</td>\n",
       "      <td>24.0</td>\n",
       "      <td>29</td>\n",
       "      <td>6</td>\n",
       "      <td>7.984463</td>\n",
       "      <td>14.766786</td>\n",
       "    </tr>\n",
       "    <tr>\n",
       "      <th>4</th>\n",
       "      <td>kkst1913131122</td>\n",
       "      <td>Support casting my sculpture in bronze</td>\n",
       "      <td>I'm nearing completion on a sculpture, currently titled \"\"\"\"\"\"\"\"\"\"\"\"\"\"\"\"\"\"\"\"\"\"\"\"\"\"\"\"\"\"\"\"\"\"\"\"\"\"\"\"...</td>\n",
       "      <td>2000.0</td>\n",
       "      <td>support-casting-my-sculpture-in-bronze</td>\n",
       "      <td>0</td>\n",
       "      <td>20</td>\n",
       "      <td>USD</td>\n",
       "      <td>2009-05-31 17:08:00</td>\n",
       "      <td>2009-05-31 17:15:17</td>\n",
       "      <td>...</td>\n",
       "      <td>1</td>\n",
       "      <td>0</td>\n",
       "      <td>38</td>\n",
       "      <td>384</td>\n",
       "      <td>6.0</td>\n",
       "      <td>18.0</td>\n",
       "      <td>38</td>\n",
       "      <td>6</td>\n",
       "      <td>7.873598</td>\n",
       "      <td>14.766913</td>\n",
       "    </tr>\n",
       "  </tbody>\n",
       "</table>\n",
       "<p>5 rows × 22 columns</p>\n",
       "</div>"
      ],
      "text/plain": [
       "       project_id  \\\n",
       "0  kkst1451568084   \n",
       "1  kkst1474482071   \n",
       "2   kkst183622197   \n",
       "3   kkst597742710   \n",
       "4  kkst1913131122   \n",
       "\n",
       "                                                                           name  \\\n",
       "0                                                           drawing for dollars   \n",
       "1  Sponsor Dereck Blackburn (Lostwars) Artist in Residence in Kankakee Illinois   \n",
       "2                                                                 Mr. Squiggles   \n",
       "3                                                Help me write my second novel.   \n",
       "4                                        Support casting my sculpture in bronze   \n",
       "\n",
       "                                                                                                  desc  \\\n",
       "0  I like drawing pictures. and then i color them too. so i thought i would suggest something for m...   \n",
       "1  I, Dereck Blackburn will be taking upon an incredible journey in the month of May 2009. I will b...   \n",
       "2  So I saw darkpony's successfully funded drawing for dollars project and I thought \"\"\"\"\"\"\"\"\"\"\"\"\"\"...   \n",
       "3  Do your part to help out starving artists and help me write my second novel!\\r\\n\\r\\nI have just ...   \n",
       "4  I'm nearing completion on a sculpture, currently titled \"\"\"\"\"\"\"\"\"\"\"\"\"\"\"\"\"\"\"\"\"\"\"\"\"\"\"\"\"\"\"\"\"\"\"\"\"\"\"\"...   \n",
       "\n",
       "     goal  \\\n",
       "0    20.0   \n",
       "1   300.0   \n",
       "2    30.0   \n",
       "3   500.0   \n",
       "4  2000.0   \n",
       "\n",
       "                                                                     keywords  \\\n",
       "0                                                         drawing-for-dollars   \n",
       "1  sponsor-dereck-blackburn-lostwars-artist-in-residence-in-kankakee-illinois   \n",
       "2                                                                mr-squiggles   \n",
       "3                                               help-me-write-my-second-novel   \n",
       "4                                      support-casting-my-sculpture-in-bronze   \n",
       "\n",
       "   disable_communication  country currency            deadline  \\\n",
       "0                      0       20      USD 2009-05-03 12:29:59   \n",
       "1                      0       20      USD 2009-05-16 04:40:00   \n",
       "2                      0       20      USD 2009-05-23 02:56:00   \n",
       "3                      0       20      USD 2009-05-29 05:39:00   \n",
       "4                      0       20      USD 2009-05-31 17:08:00   \n",
       "\n",
       "     state_changed_at    ...     backers_count final_status  name_len  \\\n",
       "0 2009-05-03 12:30:17    ...                 3            1        19   \n",
       "1 2009-05-16 05:30:18    ...                 2            0        76   \n",
       "2 2009-05-23 03:00:18    ...                 0            0        13   \n",
       "3 2009-05-29 05:45:21    ...                18            1        30   \n",
       "4 2009-05-31 17:15:17    ...                 1            0        38   \n",
       "\n",
       "   desc_len  name_count  desc_count  keywords_len  keywords_count     time1  \\\n",
       "0       134         3.0        26.0            19               3  7.703459   \n",
       "1       137        10.0        25.0            74              10  9.640043   \n",
       "2       385         2.0        22.0            12               2  6.665684   \n",
       "3       131         6.0        24.0            29               6  7.984463   \n",
       "4       384         6.0        18.0            38               6  7.873598   \n",
       "\n",
       "       time3  \n",
       "0  13.502546  \n",
       "1  14.189422  \n",
       "2  13.668358  \n",
       "3  14.766786  \n",
       "4  14.766913  \n",
       "\n",
       "[5 rows x 22 columns]"
      ]
     },
     "execution_count": 15,
     "metadata": {},
     "output_type": "execute_result"
    }
   ],
   "source": [
    "train.head()\n"
   ]
  },
  {
   "cell_type": "code",
   "execution_count": 16,
   "metadata": {},
   "outputs": [],
   "source": [
    "train['goal'] = np.log1p(train['goal'])\n",
    "test['goal'] = np.log1p(test['goal'])"
   ]
  },
  {
   "cell_type": "code",
   "execution_count": 17,
   "metadata": {},
   "outputs": [],
   "source": [
    "kickdesc = pd.Series(train['desc'].tolist() + test['desc'].tolist()).astype(str)"
   ]
  },
  {
   "cell_type": "code",
   "execution_count": 18,
   "metadata": {},
   "outputs": [],
   "source": [
    "def desc_clean(word):\n",
    "    p1 = re.sub(pattern='(\\W+)|(\\d+)|(\\s+)',repl=' ',string=word)\n",
    "    p1 = p1.lower()\n",
    "    return p1\n",
    "\n",
    "kickdesc = kickdesc.map(desc_clean)"
   ]
  },
  {
   "cell_type": "code",
   "execution_count": 19,
   "metadata": {},
   "outputs": [],
   "source": [
    "stop = set(stopwords.words('english'))\n",
    "kickdesc = [[x for x in x.split() if x not in stop] for x in kickdesc]\n",
    "\n",
    "stemmer = SnowballStemmer(language='english')\n",
    "kickdesc = [[stemmer.stem(x) for x in x] for x in kickdesc]\n",
    "\n",
    "kickdesc = [[x for x in x if len(x) > 2] for x in kickdesc]\n",
    "\n",
    "kickdesc = [' '.join(x) for x in kickdesc]"
   ]
  },
  {
   "cell_type": "code",
   "execution_count": 20,
   "metadata": {},
   "outputs": [],
   "source": [
    "cv = CountVectorizer(max_features=650)\n"
   ]
  },
  {
   "cell_type": "code",
   "execution_count": 21,
   "metadata": {},
   "outputs": [],
   "source": [
    "alldesc = cv.fit_transform(kickdesc).todense()\n"
   ]
  },
  {
   "cell_type": "code",
   "execution_count": 22,
   "metadata": {},
   "outputs": [],
   "source": [
    "combine = pd.DataFrame(alldesc)\n",
    "combine.rename(columns= lambda x: 'variable_'+ str(x), inplace=True)"
   ]
  },
  {
   "cell_type": "code",
   "execution_count": 23,
   "metadata": {},
   "outputs": [],
   "source": [
    "train_text = combine[:train.shape[0]]\n",
    "test_text = combine[train.shape[0]:]\n",
    "\n",
    "test_text.reset_index(drop=True,inplace=True)"
   ]
  },
  {
   "cell_type": "code",
   "execution_count": 24,
   "metadata": {},
   "outputs": [],
   "source": [
    "cols_to_use = ['name_len','desc_len','keywords_len','name_count','desc_count','keywords_count','time1','time3','goal']"
   ]
  },
  {
   "cell_type": "code",
   "execution_count": 25,
   "metadata": {},
   "outputs": [],
   "source": [
    "target = train['final_status']"
   ]
  },
  {
   "cell_type": "code",
   "execution_count": 26,
   "metadata": {},
   "outputs": [],
   "source": [
    "train = train.loc[:,cols_to_use]\n",
    "test = test.loc[:,cols_to_use]"
   ]
  },
  {
   "cell_type": "code",
   "execution_count": 27,
   "metadata": {},
   "outputs": [],
   "source": [
    "X_train = pd.concat([train, train_text],axis=1)\n",
    "X_test = pd.concat([test, test_text],axis=1)"
   ]
  },
  {
   "cell_type": "code",
   "execution_count": 28,
   "metadata": {},
   "outputs": [
    {
     "name": "stdout",
     "output_type": "stream",
     "text": [
      "(108129, 659)\n",
      "(63465, 659)\n"
     ]
    }
   ],
   "source": [
    "print(X_train.shape)\n",
    "print(X_test.shape)"
   ]
  },
  {
   "cell_type": "code",
   "execution_count": 29,
   "metadata": {},
   "outputs": [
    {
     "name": "stderr",
     "output_type": "stream",
     "text": [
      "c:\\users\\dell pc\\appdata\\local\\programs\\python\\python36\\lib\\site-packages\\sklearn\\cross_validation.py:41: DeprecationWarning: This module was deprecated in version 0.18 in favor of the model_selection module into which all the refactored classes and functions are moved. Also note that the interface of the new CV iterators are different from that of this module. This module will be removed in 0.20.\n",
      "  \"This module will be removed in 0.20.\", DeprecationWarning)\n"
     ]
    }
   ],
   "source": [
    "from sklearn.cross_validation import train_test_split\n",
    "X_train, X_test, y_train, y_test = train_test_split(train, target, test_size=0.2, random_state=0)\n",
    "\n",
    "dtrain = lgb.Dataset(X_train, y_train)\n",
    "dval = lgb.Dataset(X_test, y_test)\n",
    "\n"
   ]
  },
  {
   "cell_type": "code",
   "execution_count": 30,
   "metadata": {},
   "outputs": [],
   "source": [
    "params = {\n",
    "    \n",
    "    'num_leaves' : 256,\n",
    "    'learning_rate':0.55,\n",
    "    'metric':'auc',\n",
    "    'objective':'binary',\n",
    "    'early_stopping_round': 40,\n",
    "    'max_depth':6,\n",
    "    'bagging_fraction':0.5,\n",
    "    'feature_fraction':0.6,\n",
    "    'bagging_seed':2017,\n",
    "    'feature_fraction_seed':2017,\n",
    "    'verbose' : 1\n",
    "    \n",
    "    \n",
    "}"
   ]
  },
  {
   "cell_type": "code",
   "execution_count": 31,
   "metadata": {},
   "outputs": [
    {
     "name": "stderr",
     "output_type": "stream",
     "text": [
      "c:\\users\\dell pc\\appdata\\local\\programs\\python\\python36\\lib\\site-packages\\lightgbm\\engine.py:104: UserWarning: Found `early_stopping_round` in params. Will use it instead of argument\n",
      "  warnings.warn(\"Found `{}` in params. Will use it instead of argument\".format(alias))\n"
     ]
    },
    {
     "name": "stdout",
     "output_type": "stream",
     "text": [
      "Training until validation scores don't improve for 40 rounds.\n",
      "[10]\tvalid_0's auc: 0.689146\n",
      "[20]\tvalid_0's auc: 0.688159\n",
      "[30]\tvalid_0's auc: 0.687497\n",
      "[40]\tvalid_0's auc: 0.687418\n",
      "[50]\tvalid_0's auc: 0.685301\n",
      "Early stopping, best iteration is:\n",
      "[13]\tvalid_0's auc: 0.690857\n"
     ]
    }
   ],
   "source": [
    "\n",
    "clf = lgb.train(params, dtrain,num_boost_round=1000,valid_sets=dval,verbose_eval=10)\n"
   ]
  },
  {
   "cell_type": "code",
   "execution_count": 32,
   "metadata": {},
   "outputs": [],
   "source": [
    "\n",
    "preds = clf.predict(test[cols_to_use])"
   ]
  },
  {
   "cell_type": "code",
   "execution_count": 33,
   "metadata": {},
   "outputs": [
    {
     "name": "stdout",
     "output_type": "stream",
     "text": [
      "[ 0.26868354  0.08872348  0.16924309 ...,  0.21771954  0.07523419\n",
      "  0.41097119]\n",
      "                name_len  desc_len  keywords_len  name_count  desc_count  \\\n",
      "name_len        1.000000  0.257125      0.336503    0.345182    0.065045   \n",
      "desc_len        0.257125  1.000000      0.086445    0.097597    0.320690   \n",
      "keywords_len    0.336503  0.086445      1.000000    0.850484    0.110142   \n",
      "name_count      0.345182  0.097597      0.850484    1.000000    0.157178   \n",
      "desc_count      0.065045  0.320690      0.110142    0.157178    1.000000   \n",
      "keywords_count  0.337983  0.097032      0.913181    0.917339    0.147861   \n",
      "time1           0.011170 -0.004001      0.071972    0.057268   -0.033006   \n",
      "time3           0.026279  0.025544      0.018365    0.028932    0.029525   \n",
      "goal           -0.012078  0.000697      0.025094    0.020921   -0.012158   \n",
      "\n",
      "                keywords_count     time1     time3      goal  \n",
      "name_len              0.337983  0.011170  0.026279 -0.012078  \n",
      "desc_len              0.097032 -0.004001  0.025544  0.000697  \n",
      "keywords_len          0.913181  0.071972  0.018365  0.025094  \n",
      "name_count            0.917339  0.057268  0.028932  0.020921  \n",
      "desc_count            0.147861 -0.033006  0.029525 -0.012158  \n",
      "keywords_count        1.000000  0.056885  0.017937  0.006797  \n",
      "time1                 0.056885  1.000000  0.023954  0.230584  \n",
      "time3                 0.017937  0.023954  1.000000  0.213133  \n",
      "goal                  0.006797  0.230584  0.213133  1.000000  \n"
     ]
    }
   ],
   "source": [
    "print(preds)\n",
    "correlation = train.corr(method='pearson')\n",
    "print(correlation)"
   ]
  },
  {
   "cell_type": "code",
   "execution_count": 34,
   "metadata": {},
   "outputs": [],
   "source": [
    "sub = pd.DataFrame(columns=['project-id','final-status'])"
   ]
  },
  {
   "cell_type": "code",
   "execution_count": 35,
   "metadata": {},
   "outputs": [],
   "source": [
    "sub['project-id'] = proj_ids\n",
    "sub['final-status'] = [1 if x > 0.5 else 0 for x in preds]\n",
    "#print(sub['final-status'])"
   ]
  },
  {
   "cell_type": "code",
   "execution_count": 36,
   "metadata": {},
   "outputs": [],
   "source": [
    "sub.to_csv(\"lgb_with_python.csv\",index=False) "
   ]
  },
  {
   "cell_type": "code",
   "execution_count": null,
   "metadata": {},
   "outputs": [],
   "source": []
  },
  {
   "cell_type": "code",
   "execution_count": null,
   "metadata": {},
   "outputs": [],
   "source": []
  },
  {
   "cell_type": "code",
   "execution_count": null,
   "metadata": {},
   "outputs": [],
   "source": []
  },
  {
   "cell_type": "code",
   "execution_count": null,
   "metadata": {},
   "outputs": [],
   "source": []
  }
 ],
 "metadata": {
  "kernelspec": {
   "display_name": "Python 3",
   "language": "python",
   "name": "python3"
  },
  "language_info": {
   "codemirror_mode": {
    "name": "ipython",
    "version": 3
   },
   "file_extension": ".py",
   "mimetype": "text/x-python",
   "name": "python",
   "nbconvert_exporter": "python",
   "pygments_lexer": "ipython3",
   "version": "3.6.3"
  }
 },
 "nbformat": 4,
 "nbformat_minor": 2
}
