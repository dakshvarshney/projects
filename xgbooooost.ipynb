{
 "cells": [
  {
   "cell_type": "code",
   "execution_count": 2,
   "metadata": {},
   "outputs": [],
   "source": [
    "import pandas as pd\n",
    "import numpy as np\n",
    "import re\n",
    "import datetime\n",
    "from nltk.corpus import stopwords\n",
    "from sklearn.preprocessing import LabelEncoder\n",
    "from nltk.stem.snowball import SnowballStemmer\n",
    "from sklearn.feature_extraction.text import CountVectorizer\n",
    "import xgboost as xgb\n",
    "\n",
    "pd.set_option('display.max_colwidth',100)\n",
    "import pickle\n"
   ]
  },
  {
   "cell_type": "code",
   "execution_count": 3,
   "metadata": {},
   "outputs": [],
   "source": [
    "\n",
    "train = pd.read_csv('train.csv')\n",
    "test = pd.read_csv('test.csv')\n",
    "proj_ids = train['project_id']"
   ]
  },
  {
   "cell_type": "code",
   "execution_count": 4,
   "metadata": {},
   "outputs": [],
   "source": [
    "\n",
    "unix_cols = ['deadline','state_changed_at','launched_at','created_at']\n",
    "\n",
    "for x in unix_cols:\n",
    "    train[x] = train[x].apply(lambda k: datetime.datetime.fromtimestamp(int(k)).strftime('%Y-%m-%d %H:%M:%S'))\n",
    "    test[x] = test[x].apply(lambda k: datetime.datetime.fromtimestamp(int(k)).strftime('%Y-%m-%d %H:%M:%S'))"
   ]
  },
  {
   "cell_type": "code",
   "execution_count": 5,
   "metadata": {},
   "outputs": [],
   "source": [
    "cols_to_use = ['name','desc']\n",
    "len_feats = ['name_len','desc_len']\n",
    "count_feats = ['name_count','desc_count']\n",
    "\n",
    "for i in np.arange(2):\n",
    "    train[len_feats[i]] = train[cols_to_use[i]].apply(str).apply(len)\n",
    "    test[len_feats[i]] = test[cols_to_use[i]].apply(str).apply(len)"
   ]
  },
  {
   "cell_type": "code",
   "execution_count": 6,
   "metadata": {},
   "outputs": [],
   "source": [
    "train['name_count'] = train['name'].str.split().str.len()\n",
    "train['desc_count'] = train['desc'].str.split().str.len()\n",
    "\n",
    "test['name_count'] = test['name'].str.split().str.len()\n",
    "test['desc_count'] = test['desc'].str.split().str.len()"
   ]
  },
  {
   "cell_type": "code",
   "execution_count": 7,
   "metadata": {},
   "outputs": [],
   "source": [
    "train['keywords_len'] = train['keywords'].str.len()\n",
    "train['keywords_count'] = train['keywords'].str.split('-').str.len()\n",
    "\n",
    "test['keywords_len'] = test['keywords'].str.len()\n",
    "test['keywords_count'] = test['keywords'].str.split('-').str.len()"
   ]
  },
  {
   "cell_type": "code",
   "execution_count": 8,
   "metadata": {},
   "outputs": [],
   "source": [
    "\n",
    "unix_cols = ['deadline','state_changed_at','launched_at','created_at']\n",
    "\n",
    "for x in unix_cols:\n",
    "    train[x] = train[x].apply(lambda k: datetime.datetime.strptime(k, '%Y-%m-%d %H:%M:%S'))\n",
    "    test[x] = test[x].apply(lambda k: datetime.datetime.strptime(k, '%Y-%m-%d %H:%M:%S'))"
   ]
  },
  {
   "cell_type": "code",
   "execution_count": 9,
   "metadata": {},
   "outputs": [],
   "source": [
    "time1 = []\n",
    "time3 = []\n",
    "for i in np.arange(train.shape[0]):\n",
    "    time1.append(np.round((train.loc[i, 'launched_at'] - train.loc[i, 'created_at']).total_seconds()).astype(int))\n",
    "    time3.append(np.round((train.loc[i, 'deadline'] - train.loc[i, 'launched_at']).total_seconds()).astype(int))"
   ]
  },
  {
   "cell_type": "code",
   "execution_count": 10,
   "metadata": {},
   "outputs": [],
   "source": [
    "train['time1'] = np.log(time1)\n",
    "train['time3'] = np.log(time3)"
   ]
  },
  {
   "cell_type": "code",
   "execution_count": 11,
   "metadata": {},
   "outputs": [],
   "source": [
    "time5 = []\n",
    "time6 = []\n",
    "for i in np.arange(test.shape[0]):\n",
    "    time5.append(np.round((test.loc[i, 'launched_at'] - test.loc[i, 'created_at']).total_seconds()).astype(int))\n",
    "    time6.append(np.round((test.loc[i, 'deadline'] - test.loc[i, 'launched_at']).total_seconds()).astype(int))"
   ]
  },
  {
   "cell_type": "code",
   "execution_count": 12,
   "metadata": {},
   "outputs": [],
   "source": [
    "test['time1'] = np.log(time5)\n",
    "test['time3'] = np.log(time6)"
   ]
  },
  {
   "cell_type": "code",
   "execution_count": 13,
   "metadata": {},
   "outputs": [],
   "source": [
    "feat = ['disable_communication','country']\n",
    "\n",
    "for x in feat:\n",
    "    le = LabelEncoder()\n",
    "    le.fit(list(train[x].values) + list(test[x].values))\n",
    "    train[x] = le.transform(list(train[x]))\n",
    "    test[x] = le.transform(list(test[x]))"
   ]
  },
  {
   "cell_type": "code",
   "execution_count": 14,
   "metadata": {},
   "outputs": [],
   "source": [
    "train['goal'] = np.log1p(train['goal'])\n",
    "test['goal'] = np.log1p(test['goal'])"
   ]
  },
  {
   "cell_type": "code",
   "execution_count": 15,
   "metadata": {},
   "outputs": [],
   "source": [
    "kickdesc = pd.Series(train['desc'].tolist() + test['desc'].tolist()).astype(str)\n"
   ]
  },
  {
   "cell_type": "code",
   "execution_count": 16,
   "metadata": {},
   "outputs": [],
   "source": [
    "def desc_clean(word):\n",
    "    p1 = re.sub(pattern='(\\W+)|(\\d+)|(\\s+)',repl=' ',string=word)\n",
    "    p1 = p1.lower()\n",
    "    return p1\n",
    "\n",
    "kickdesc = kickdesc.map(desc_clean)"
   ]
  },
  {
   "cell_type": "code",
   "execution_count": null,
   "metadata": {},
   "outputs": [],
   "source": [
    "stop = set(stopwords.words('english'))\n",
    "kickdesc = [[x for x in x.split() if x not in stop] for x in kickdesc]\n",
    "#baseword\n",
    "stemmer = SnowballStemmer(language='english')\n",
    "kickdesc = [[stemmer.stem(x) for x in x] for x in kickdesc]\n",
    "\n",
    "kickdesc = [[x for x in x if len(x) > 2] for x in kickdesc]\n",
    "\n",
    "kickdesc = [' '.join(x) for x in kickdesc]"
   ]
  },
  {
   "cell_type": "code",
   "execution_count": null,
   "metadata": {},
   "outputs": [],
   "source": [
    "cv = CountVectorizer(max_features=650)\n"
   ]
  },
  {
   "cell_type": "code",
   "execution_count": null,
   "metadata": {},
   "outputs": [],
   "source": [
    "alldesc = cv.fit_transform(kickdesc).todense()\n"
   ]
  },
  {
   "cell_type": "code",
   "execution_count": null,
   "metadata": {},
   "outputs": [],
   "source": [
    "combine = pd.DataFrame(alldesc)\n",
    "combine.rename(columns= lambda x: 'variable_'+ str(x), inplace=True)"
   ]
  },
  {
   "cell_type": "code",
   "execution_count": null,
   "metadata": {},
   "outputs": [],
   "source": [
    "train_text = combine[:train.shape[0]]\n",
    "test_text = combine[train.shape[0]:]\n",
    "\n",
    "test_text.reset_index(drop=True,inplace=True)"
   ]
  },
  {
   "cell_type": "code",
   "execution_count": null,
   "metadata": {},
   "outputs": [],
   "source": [
    "cols_to_use = ['name_len','desc_len','keywords_len','name_count','desc_count','keywords_count','time1','time3','goal']"
   ]
  },
  {
   "cell_type": "code",
   "execution_count": null,
   "metadata": {},
   "outputs": [],
   "source": [
    "target = train['final_status']\n",
    "correlation = train.corr(method='pearson')\n",
    "print(correlation)"
   ]
  },
  {
   "cell_type": "code",
   "execution_count": null,
   "metadata": {},
   "outputs": [],
   "source": [
    "train = train.loc[:,cols_to_use]\n",
    "test = test.loc[:,cols_to_use]"
   ]
  },
  {
   "cell_type": "code",
   "execution_count": 1,
   "metadata": {},
   "outputs": [
    {
     "ename": "NameError",
     "evalue": "name 'train' is not defined",
     "output_type": "error",
     "traceback": [
      "\u001b[1;31m---------------------------------------------------------------------------\u001b[0m",
      "\u001b[1;31mNameError\u001b[0m                                 Traceback (most recent call last)",
      "\u001b[1;32m<ipython-input-1-3f66e9304652>\u001b[0m in \u001b[0;36m<module>\u001b[1;34m()\u001b[0m\n\u001b[0;32m      3\u001b[0m \u001b[1;33m\u001b[0m\u001b[0m\n\u001b[0;32m      4\u001b[0m \u001b[0mf\u001b[0m\u001b[1;33m,\u001b[0m \u001b[0max\u001b[0m \u001b[1;33m=\u001b[0m \u001b[0mplt\u001b[0m\u001b[1;33m.\u001b[0m\u001b[0msubplots\u001b[0m\u001b[1;33m(\u001b[0m\u001b[0mfigsize\u001b[0m\u001b[1;33m=\u001b[0m\u001b[1;33m(\u001b[0m\u001b[1;36m10\u001b[0m\u001b[1;33m,\u001b[0m \u001b[1;36m8\u001b[0m\u001b[1;33m)\u001b[0m\u001b[1;33m)\u001b[0m\u001b[1;33m\u001b[0m\u001b[0m\n\u001b[1;32m----> 5\u001b[1;33m \u001b[0mcorrel\u001b[0m \u001b[1;33m=\u001b[0m \u001b[0mtrain\u001b[0m\u001b[1;33m.\u001b[0m\u001b[0mcorr\u001b[0m\u001b[1;33m(\u001b[0m\u001b[1;33m)\u001b[0m\u001b[1;33m\u001b[0m\u001b[0m\n\u001b[0m\u001b[0;32m      6\u001b[0m sns.heatmap(correl, mask=np.zeros_like(correl, dtype=np.bool), cmap=sns.diverging_palette(220, 10, as_cmap=True),\n\u001b[0;32m      7\u001b[0m             square=True, ax=ax)\n",
      "\u001b[1;31mNameError\u001b[0m: name 'train' is not defined"
     ]
    }
   ],
   "source": [
    "import seaborn as sns\n",
    "import matplotlib.pyplot as plt\n",
    "\n",
    "f, ax = plt.subplots(figsize=(10, 8))\n",
    "correl = train.corr()\n",
    "sns.heatmap(correl, mask=np.zeros_like(correl, dtype=np.bool), cmap=sns.diverging_palette(220, 10, as_cmap=True),\n",
    "            square=True, ax=ax)"
   ]
  },
  {
   "cell_type": "code",
   "execution_count": 24,
   "metadata": {},
   "outputs": [],
   "source": [
    "X_train = pd.concat([train, train_text],axis=1)\n",
    "X_test = pd.concat([test, test_text],axis=1)"
   ]
  },
  {
   "cell_type": "code",
   "execution_count": 25,
   "metadata": {},
   "outputs": [
    {
     "name": "stdout",
     "output_type": "stream",
     "text": [
      "(108129, 659)\n",
      "(63465, 659)\n"
     ]
    }
   ],
   "source": [
    "print(X_train.shape)\n",
    "print(X_test.shape)"
   ]
  },
  {
   "cell_type": "code",
   "execution_count": 26,
   "metadata": {},
   "outputs": [],
   "source": [
    "dtrain = xgb.DMatrix(data=X_train, label = target)\n",
    "dtest = xgb.DMatrix(data=X_test)"
   ]
  },
  {
   "cell_type": "code",
   "execution_count": 27,
   "metadata": {},
   "outputs": [],
   "source": [
    "params = {\n",
    "    'objective':'binary:logistic',\n",
    "    'eval_metric':'error',\n",
    "    'eta':0.025,\n",
    "    'max_depth':6,\n",
    "    'subsample':0.7,\n",
    "    'colsample_bytree':0.7,\n",
    "    'min_child_weight':5\n",
    "    \n",
    "}"
   ]
  },
  {
   "cell_type": "code",
   "execution_count": 28,
   "metadata": {},
   "outputs": [
    {
     "name": "stdout",
     "output_type": "stream",
     "text": [
      "[0]\ttrain-error:0.312684+0.000471964\ttest-error:0.31431+0.00258479\n",
      "[10]\ttrain-error:0.309494+0.00118648\ttest-error:0.313191+0.00288106\n",
      "[20]\ttrain-error:0.308671+0.000651604\ttest-error:0.312618+0.00291807\n",
      "[30]\ttrain-error:0.307885+0.000544951\ttest-error:0.311461+0.003443\n",
      "[40]\ttrain-error:0.30598+0.000408615\ttest-error:0.310185+0.00340554\n",
      "[50]\ttrain-error:0.304188+0.000703103\ttest-error:0.308594+0.00297464\n",
      "[60]\ttrain-error:0.302771+0.000851092\ttest-error:0.30791+0.00270156\n",
      "[70]\ttrain-error:0.301388+0.000997155\ttest-error:0.307133+0.00246657\n",
      "[80]\ttrain-error:0.299672+0.000440693\ttest-error:0.305986+0.00222416\n",
      "[90]\ttrain-error:0.298535+0.000318058\ttest-error:0.305413+0.00232997\n",
      "[100]\ttrain-error:0.297513+0.000220505\ttest-error:0.304414+0.00232125\n",
      "[110]\ttrain-error:0.296512+0.000314392\ttest-error:0.30349+0.00206628\n",
      "[120]\ttrain-error:0.295702+0.000473539\ttest-error:0.302685+0.00205165\n",
      "[130]\ttrain-error:0.294828+0.000549855\ttest-error:0.302315+0.00213257\n",
      "[140]\ttrain-error:0.293721+0.000628399\ttest-error:0.301399+0.00210255\n",
      "[150]\ttrain-error:0.292875+0.000534074\ttest-error:0.30077+0.00214678\n",
      "[160]\ttrain-error:0.292035+0.00056259\ttest-error:0.299762+0.00212603\n",
      "[170]\ttrain-error:0.291268+0.000525523\ttest-error:0.298976+0.00221273\n",
      "[180]\ttrain-error:0.290669+0.000606963\ttest-error:0.298329+0.00223\n",
      "[190]\ttrain-error:0.289955+0.00057561\ttest-error:0.297718+0.00195164\n",
      "[200]\ttrain-error:0.28927+0.000395532\ttest-error:0.297302+0.00199761\n",
      "[210]\ttrain-error:0.288621+0.000351876\ttest-error:0.296858+0.00215489\n",
      "[220]\ttrain-error:0.287948+0.000457464\ttest-error:0.296507+0.00224301\n",
      "[230]\ttrain-error:0.287379+0.000438789\ttest-error:0.29634+0.00211404\n",
      "[240]\ttrain-error:0.286665+0.000458287\ttest-error:0.296276+0.00226249\n",
      "[250]\ttrain-error:0.285983+0.000507512\ttest-error:0.296026+0.0025038\n",
      "[260]\ttrain-error:0.28546+0.00054988\ttest-error:0.2956+0.00264054\n",
      "[270]\ttrain-error:0.284796+0.00046738\ttest-error:0.295407+0.00297586\n",
      "[280]\ttrain-error:0.284265+0.000466629\ttest-error:0.295073+0.0030483\n",
      "[290]\ttrain-error:0.28368+0.000573517\ttest-error:0.294842+0.00306749\n",
      "[300]\ttrain-error:0.283271+0.000583838\ttest-error:0.294574+0.00306808\n",
      "[310]\ttrain-error:0.282836+0.000670838\ttest-error:0.294408+0.00334098\n",
      "[320]\ttrain-error:0.282332+0.000652622\ttest-error:0.29426+0.00324779\n",
      "[330]\ttrain-error:0.281849+0.000515942\ttest-error:0.294029+0.00294713\n",
      "[340]\ttrain-error:0.281263+0.000542911\ttest-error:0.293945+0.00276777\n",
      "[350]\ttrain-error:0.280887+0.000537605\ttest-error:0.293594+0.00292376\n",
      "[360]\ttrain-error:0.28045+0.000648608\ttest-error:0.293316+0.00308486\n",
      "[370]\ttrain-error:0.279943+0.000559571\ttest-error:0.293363+0.00290319\n",
      "[380]\ttrain-error:0.279453+0.000546491\ttest-error:0.293307+0.00284298\n",
      "[390]\ttrain-error:0.279058+0.000408331\ttest-error:0.293066+0.00277333\n",
      "[400]\ttrain-error:0.278743+0.000533272\ttest-error:0.292891+0.0029652\n",
      "[410]\ttrain-error:0.278332+0.000594904\ttest-error:0.292706+0.00271331\n",
      "[420]\ttrain-error:0.277883+0.000580326\ttest-error:0.29265+0.00277498\n",
      "[430]\ttrain-error:0.277419+0.000510869\ttest-error:0.292697+0.00268172\n",
      "[440]\ttrain-error:0.276996+0.000513834\ttest-error:0.292355+0.00258957\n",
      "[450]\ttrain-error:0.276623+0.000511992\ttest-error:0.292225+0.00242933\n",
      "[460]\ttrain-error:0.276258+0.000558475\ttest-error:0.29217+0.00243509\n",
      "[470]\ttrain-error:0.276036+0.000569427\ttest-error:0.292197+0.00258716\n",
      "[480]\ttrain-error:0.275537+0.000498796\ttest-error:0.291725+0.00244907\n",
      "[490]\ttrain-error:0.275134+0.000423525\ttest-error:0.291772+0.00262403\n",
      "[500]\ttrain-error:0.274864+0.000464557\ttest-error:0.291716+0.002652\n",
      "[510]\ttrain-error:0.274434+0.000428783\ttest-error:0.291541+0.00263034\n",
      "[520]\ttrain-error:0.274024+0.000345823\ttest-error:0.291337+0.00274653\n",
      "[530]\ttrain-error:0.273747+0.000271529\ttest-error:0.2913+0.00279016\n",
      "[540]\ttrain-error:0.273479+0.000288849\ttest-error:0.291421+0.00284952\n",
      "[550]\ttrain-error:0.273155+0.000234646\ttest-error:0.291374+0.00258609\n",
      "[560]\ttrain-error:0.272702+0.000175051\ttest-error:0.291374+0.00274801\n",
      "[570]\ttrain-error:0.272328+0.000201349\ttest-error:0.291309+0.00260128\n",
      "[580]\ttrain-error:0.271921+0.000251432\ttest-error:0.291134+0.00261725\n",
      "[590]\ttrain-error:0.271518+0.000306049\ttest-error:0.291134+0.00275702\n",
      "[600]\ttrain-error:0.271114+0.000337265\ttest-error:0.291124+0.00267752\n",
      "[610]\ttrain-error:0.270785+0.000269525\ttest-error:0.291226+0.00283721\n",
      "[620]\ttrain-error:0.270441+0.000172477\ttest-error:0.291013+0.00262615\n",
      "[630]\ttrain-error:0.270175+0.000188997\ttest-error:0.290625+0.0024752\n",
      "[640]\ttrain-error:0.269826+0.000178929\ttest-error:0.290375+0.00227018\n",
      "[650]\ttrain-error:0.269444+0.000276606\ttest-error:0.290163+0.00226915\n",
      "[660]\ttrain-error:0.269119+0.000383675\ttest-error:0.2902+0.00213539\n",
      "[670]\ttrain-error:0.268889+0.000401298\ttest-error:0.29032+0.00199539\n",
      "[680]\ttrain-error:0.26855+0.000392294\ttest-error:0.290283+0.00206717\n"
     ]
    }
   ],
   "source": [
    " \n",
    "bst = xgb.cv(params, dtrain, num_boost_round=1000, early_stopping_rounds=40,nfold=5,verbose_eval=10)"
   ]
  },
  {
   "cell_type": "code",
   "execution_count": null,
   "metadata": {},
   "outputs": [],
   "source": [
    "bst_train = xgb.train(params, dtrain, num_boost_round=1000)\n"
   ]
  },
  {
   "cell_type": "code",
   "execution_count": 62,
   "metadata": {},
   "outputs": [
    {
     "name": "stdout",
     "output_type": "stream",
     "text": [
      "[ 0.22425365  0.52926487  0.42408541 ...,  0.296397    0.10238023\n",
      "  0.04680846]\n"
     ]
    }
   ],
   "source": [
    "p_test = bst_train.predict(dtrain)\n",
    "print(p_test)"
   ]
  },
  {
   "cell_type": "code",
   "execution_count": 69,
   "metadata": {},
   "outputs": [],
   "source": [
    "\n",
    "sub = pd.DataFrame()\n",
    "sub['project_id'] = proj_ids\n",
    "sub['final_status'] = p_test"
   ]
  },
  {
   "cell_type": "code",
   "execution_count": 70,
   "metadata": {},
   "outputs": [],
   "source": [
    "\n",
    "sub['final_status'] = [1 if x > 0.5 else 0 for x in sub['final_status']]\n"
   ]
  },
  {
   "cell_type": "code",
   "execution_count": 77,
   "metadata": {},
   "outputs": [],
   "source": [
    "sub.to_csv(\"xgb_with_python_feats.csv\",index=False) \n"
   ]
  },
  {
   "cell_type": "code",
   "execution_count": 75,
   "metadata": {},
   "outputs": [],
   "source": [
    "pickle.dump(bst_train, open(\"pima.pickle.dat\", \"wb\"))"
   ]
  },
  {
   "cell_type": "code",
   "execution_count": 76,
   "metadata": {},
   "outputs": [],
   "source": [
    " loaded_model = pickle.load(open(\"pima.pickle.dat\", \"rb\"))"
   ]
  },
  {
   "cell_type": "code",
   "execution_count": 73,
   "metadata": {},
   "outputs": [],
   "source": []
  },
  {
   "cell_type": "code",
   "execution_count": null,
   "metadata": {},
   "outputs": [],
   "source": []
  }
 ],
 "metadata": {
  "kernelspec": {
   "display_name": "Python 3",
   "language": "python",
   "name": "python3"
  },
  "language_info": {
   "codemirror_mode": {
    "name": "ipython",
    "version": 3
   },
   "file_extension": ".py",
   "mimetype": "text/x-python",
   "name": "python",
   "nbconvert_exporter": "python",
   "pygments_lexer": "ipython3",
   "version": "3.6.3"
  }
 },
 "nbformat": 4,
 "nbformat_minor": 2
}
