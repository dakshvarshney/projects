{
 "cells": [
  {
   "cell_type": "code",
   "execution_count": 1,
   "metadata": {},
   "outputs": [],
   "source": [
    "import numpy as np # linear algebra\n",
    "import pandas as pd # data processing, CSV file I/O (e.g. pd.read_csv)\n",
    "import re\n",
    "import datetime"
   ]
  },
  {
   "cell_type": "code",
   "execution_count": 2,
   "metadata": {},
   "outputs": [],
   "source": [
    "train = pd.read_csv(\"train.csv\")"
   ]
  },
  {
   "cell_type": "code",
   "execution_count": 3,
   "metadata": {},
   "outputs": [
    {
     "name": "stdout",
     "output_type": "stream",
     "text": [
      "<class 'pandas.core.frame.DataFrame'>\n",
      "RangeIndex: 108129 entries, 0 to 108128\n",
      "Data columns (total 14 columns):\n",
      "project_id               108129 non-null object\n",
      "name                     108126 non-null object\n",
      "desc                     108120 non-null object\n",
      "goal                     108129 non-null float64\n",
      "keywords                 108129 non-null object\n",
      "disable_communication    108129 non-null bool\n",
      "country                  108129 non-null object\n",
      "currency                 108129 non-null object\n",
      "deadline                 108129 non-null int64\n",
      "state_changed_at         108129 non-null int64\n",
      "created_at               108129 non-null int64\n",
      "launched_at              108129 non-null int64\n",
      "backers_count            108129 non-null int64\n",
      "final_status             108129 non-null int64\n",
      "dtypes: bool(1), float64(1), int64(6), object(6)\n",
      "memory usage: 10.8+ MB\n"
     ]
    }
   ],
   "source": [
    "train.info()"
   ]
  },
  {
   "cell_type": "code",
   "execution_count": 4,
   "metadata": {},
   "outputs": [],
   "source": [
    "train.loc[train['desc'].isnull(),'desc'] = train['keywords'].map(lambda x:re.sub(r\"-\",\" \",x))"
   ]
  },
  {
   "cell_type": "code",
   "execution_count": 5,
   "metadata": {},
   "outputs": [],
   "source": [
    "col_date=['state_changed_at','created_at','launched_at','deadline']\n",
    "\n",
    "for i in col_date:\n",
    "    train[i] =  pd.to_datetime(train[i])"
   ]
  },
  {
   "cell_type": "code",
   "execution_count": 6,
   "metadata": {},
   "outputs": [],
   "source": [
    "train[\"desc_len\"] = train[\"desc\"].map(lambda x: len(x.split(\" \")))"
   ]
  },
  {
   "cell_type": "code",
   "execution_count": 7,
   "metadata": {},
   "outputs": [],
   "source": [
    "train['launched_b_deadline']=(train[\"deadline\"]-train['launched_at']).map(lambda x: x.microseconds)\n",
    "train['created_b_deadline']=(train[\"deadline\"]-train['created_at']).map(lambda x: x.microseconds)\n",
    "train['state_a_deadline']=(train[\"state_changed_at\"]-train['deadline']).map(lambda x: x.microseconds)"
   ]
  },
  {
   "cell_type": "code",
   "execution_count": 8,
   "metadata": {},
   "outputs": [
    {
     "data": {
      "text/html": [
       "<div>\n",
       "<style scoped>\n",
       "    .dataframe tbody tr th:only-of-type {\n",
       "        vertical-align: middle;\n",
       "    }\n",
       "\n",
       "    .dataframe tbody tr th {\n",
       "        vertical-align: top;\n",
       "    }\n",
       "\n",
       "    .dataframe thead th {\n",
       "        text-align: right;\n",
       "    }\n",
       "</style>\n",
       "<table border=\"1\" class=\"dataframe\">\n",
       "  <thead>\n",
       "    <tr style=\"text-align: right;\">\n",
       "      <th></th>\n",
       "      <th>project_id</th>\n",
       "      <th>name</th>\n",
       "      <th>desc</th>\n",
       "      <th>goal</th>\n",
       "      <th>keywords</th>\n",
       "      <th>disable_communication</th>\n",
       "      <th>country</th>\n",
       "      <th>currency</th>\n",
       "      <th>deadline</th>\n",
       "      <th>state_changed_at</th>\n",
       "      <th>created_at</th>\n",
       "      <th>launched_at</th>\n",
       "      <th>backers_count</th>\n",
       "      <th>final_status</th>\n",
       "      <th>desc_len</th>\n",
       "      <th>launched_b_deadline</th>\n",
       "      <th>created_b_deadline</th>\n",
       "      <th>state_a_deadline</th>\n",
       "    </tr>\n",
       "  </thead>\n",
       "  <tbody>\n",
       "    <tr>\n",
       "      <th>0</th>\n",
       "      <td>kkst1451568084</td>\n",
       "      <td>drawing for dollars</td>\n",
       "      <td>I like drawing pictures. and then i color them...</td>\n",
       "      <td>20.0</td>\n",
       "      <td>drawing-for-dollars</td>\n",
       "      <td>False</td>\n",
       "      <td>US</td>\n",
       "      <td>USD</td>\n",
       "      <td>1970-01-01 00:00:01.241333999</td>\n",
       "      <td>1970-01-01 00:00:01.241334017</td>\n",
       "      <td>1970-01-01 00:00:01.240600507</td>\n",
       "      <td>1970-01-01 00:00:01.240602723</td>\n",
       "      <td>3</td>\n",
       "      <td>1</td>\n",
       "      <td>26</td>\n",
       "      <td>731</td>\n",
       "      <td>733</td>\n",
       "      <td>0</td>\n",
       "    </tr>\n",
       "    <tr>\n",
       "      <th>1</th>\n",
       "      <td>kkst1474482071</td>\n",
       "      <td>Sponsor Dereck Blackburn (Lostwars) Artist in ...</td>\n",
       "      <td>I, Dereck Blackburn will be taking upon an inc...</td>\n",
       "      <td>300.0</td>\n",
       "      <td>sponsor-dereck-blackburn-lostwars-artist-in-re...</td>\n",
       "      <td>False</td>\n",
       "      <td>US</td>\n",
       "      <td>USD</td>\n",
       "      <td>1970-01-01 00:00:01.242429000</td>\n",
       "      <td>1970-01-01 00:00:01.242432018</td>\n",
       "      <td>1970-01-01 00:00:01.240960224</td>\n",
       "      <td>1970-01-01 00:00:01.240975592</td>\n",
       "      <td>2</td>\n",
       "      <td>0</td>\n",
       "      <td>25</td>\n",
       "      <td>1453</td>\n",
       "      <td>1468</td>\n",
       "      <td>3</td>\n",
       "    </tr>\n",
       "    <tr>\n",
       "      <th>2</th>\n",
       "      <td>kkst183622197</td>\n",
       "      <td>Mr. Squiggles</td>\n",
       "      <td>So I saw darkpony's successfully funded drawin...</td>\n",
       "      <td>30.0</td>\n",
       "      <td>mr-squiggles</td>\n",
       "      <td>False</td>\n",
       "      <td>US</td>\n",
       "      <td>USD</td>\n",
       "      <td>1970-01-01 00:00:01.243027560</td>\n",
       "      <td>1970-01-01 00:00:01.243027818</td>\n",
       "      <td>1970-01-01 00:00:01.242163613</td>\n",
       "      <td>1970-01-01 00:00:01.242164398</td>\n",
       "      <td>0</td>\n",
       "      <td>0</td>\n",
       "      <td>22</td>\n",
       "      <td>863</td>\n",
       "      <td>863</td>\n",
       "      <td>0</td>\n",
       "    </tr>\n",
       "    <tr>\n",
       "      <th>3</th>\n",
       "      <td>kkst597742710</td>\n",
       "      <td>Help me write my second novel.</td>\n",
       "      <td>Do your part to help out starving artists and ...</td>\n",
       "      <td>500.0</td>\n",
       "      <td>help-me-write-my-second-novel</td>\n",
       "      <td>False</td>\n",
       "      <td>US</td>\n",
       "      <td>USD</td>\n",
       "      <td>1970-01-01 00:00:01.243555740</td>\n",
       "      <td>1970-01-01 00:00:01.243556121</td>\n",
       "      <td>1970-01-01 00:00:01.240963795</td>\n",
       "      <td>1970-01-01 00:00:01.240966730</td>\n",
       "      <td>18</td>\n",
       "      <td>1</td>\n",
       "      <td>23</td>\n",
       "      <td>2589</td>\n",
       "      <td>2591</td>\n",
       "      <td>0</td>\n",
       "    </tr>\n",
       "    <tr>\n",
       "      <th>4</th>\n",
       "      <td>kkst1913131122</td>\n",
       "      <td>Support casting my sculpture in bronze</td>\n",
       "      <td>I'm nearing completion on a sculpture, current...</td>\n",
       "      <td>2000.0</td>\n",
       "      <td>support-casting-my-sculpture-in-bronze</td>\n",
       "      <td>False</td>\n",
       "      <td>US</td>\n",
       "      <td>USD</td>\n",
       "      <td>1970-01-01 00:00:01.243769880</td>\n",
       "      <td>1970-01-01 00:00:01.243770317</td>\n",
       "      <td>1970-01-01 00:00:01.241177914</td>\n",
       "      <td>1970-01-01 00:00:01.241180541</td>\n",
       "      <td>1</td>\n",
       "      <td>0</td>\n",
       "      <td>18</td>\n",
       "      <td>2589</td>\n",
       "      <td>2591</td>\n",
       "      <td>0</td>\n",
       "    </tr>\n",
       "  </tbody>\n",
       "</table>\n",
       "</div>"
      ],
      "text/plain": [
       "       project_id                                               name  \\\n",
       "0  kkst1451568084                                drawing for dollars   \n",
       "1  kkst1474482071  Sponsor Dereck Blackburn (Lostwars) Artist in ...   \n",
       "2   kkst183622197                                      Mr. Squiggles   \n",
       "3   kkst597742710                     Help me write my second novel.   \n",
       "4  kkst1913131122             Support casting my sculpture in bronze   \n",
       "\n",
       "                                                desc    goal  \\\n",
       "0  I like drawing pictures. and then i color them...    20.0   \n",
       "1  I, Dereck Blackburn will be taking upon an inc...   300.0   \n",
       "2  So I saw darkpony's successfully funded drawin...    30.0   \n",
       "3  Do your part to help out starving artists and ...   500.0   \n",
       "4  I'm nearing completion on a sculpture, current...  2000.0   \n",
       "\n",
       "                                            keywords  disable_communication  \\\n",
       "0                                drawing-for-dollars                  False   \n",
       "1  sponsor-dereck-blackburn-lostwars-artist-in-re...                  False   \n",
       "2                                       mr-squiggles                  False   \n",
       "3                      help-me-write-my-second-novel                  False   \n",
       "4             support-casting-my-sculpture-in-bronze                  False   \n",
       "\n",
       "  country currency                      deadline  \\\n",
       "0      US      USD 1970-01-01 00:00:01.241333999   \n",
       "1      US      USD 1970-01-01 00:00:01.242429000   \n",
       "2      US      USD 1970-01-01 00:00:01.243027560   \n",
       "3      US      USD 1970-01-01 00:00:01.243555740   \n",
       "4      US      USD 1970-01-01 00:00:01.243769880   \n",
       "\n",
       "               state_changed_at                    created_at  \\\n",
       "0 1970-01-01 00:00:01.241334017 1970-01-01 00:00:01.240600507   \n",
       "1 1970-01-01 00:00:01.242432018 1970-01-01 00:00:01.240960224   \n",
       "2 1970-01-01 00:00:01.243027818 1970-01-01 00:00:01.242163613   \n",
       "3 1970-01-01 00:00:01.243556121 1970-01-01 00:00:01.240963795   \n",
       "4 1970-01-01 00:00:01.243770317 1970-01-01 00:00:01.241177914   \n",
       "\n",
       "                    launched_at  backers_count  final_status  desc_len  \\\n",
       "0 1970-01-01 00:00:01.240602723              3             1        26   \n",
       "1 1970-01-01 00:00:01.240975592              2             0        25   \n",
       "2 1970-01-01 00:00:01.242164398              0             0        22   \n",
       "3 1970-01-01 00:00:01.240966730             18             1        23   \n",
       "4 1970-01-01 00:00:01.241180541              1             0        18   \n",
       "\n",
       "   launched_b_deadline  created_b_deadline  state_a_deadline  \n",
       "0                  731                 733                 0  \n",
       "1                 1453                1468                 3  \n",
       "2                  863                 863                 0  \n",
       "3                 2589                2591                 0  \n",
       "4                 2589                2591                 0  "
      ]
     },
     "execution_count": 8,
     "metadata": {},
     "output_type": "execute_result"
    }
   ],
   "source": [
    "train.head()"
   ]
  },
  {
   "cell_type": "code",
   "execution_count": 9,
   "metadata": {},
   "outputs": [],
   "source": [
    "ignore_features = [\"final_status\",'project_id', 'name', 'desc', 'keywords']+col_date\n",
    "features = list(train.columns)\n",
    "features = [i for i in features if i not in ignore_features] \n",
    "label = \"final_status\""
   ]
  },
  {
   "cell_type": "code",
   "execution_count": 10,
   "metadata": {},
   "outputs": [],
   "source": [
    "X = train[features].values\n",
    "y = train[label].values"
   ]
  },
  {
   "cell_type": "code",
   "execution_count": 11,
   "metadata": {},
   "outputs": [
    {
     "name": "stdout",
     "output_type": "stream",
     "text": [
      "[20.0 False 'US' 'USD' 3 26 731 733 0]\n",
      "1\n"
     ]
    }
   ],
   "source": [
    "print(X[0,:])\n",
    "print(y[0])"
   ]
  },
  {
   "cell_type": "code",
   "execution_count": 12,
   "metadata": {},
   "outputs": [],
   "source": [
    "from sklearn.preprocessing import LabelEncoder, OneHotEncoder\n",
    "#converts values from 0 to n-1\n",
    "labelencoder_X_1 = LabelEncoder()\n",
    "X[:,1] = labelencoder_X_1.fit_transform(X[:,1])\n",
    "\n",
    "labelencoder_X_2 = LabelEncoder()\n",
    "X[:,2] = labelencoder_X_2.fit_transform(X[:,2])\n",
    "\n",
    "labelencoder_X_3 = LabelEncoder()\n",
    "X[:,3] = labelencoder_X_3.fit_transform(X[:,3])"
   ]
  },
  {
   "cell_type": "code",
   "execution_count": 13,
   "metadata": {},
   "outputs": [],
   "source": [
    "#convert to sparse matrix of each feature.\n",
    "#categorical features: which to colmns to be treated for converting to sparse.\n",
    "onehotencoder = OneHotEncoder(categorical_features = [1,2,3])\n",
    "X = onehotencoder.fit_transform(X).toarray()"
   ]
  },
  {
   "cell_type": "code",
   "execution_count": 14,
   "metadata": {},
   "outputs": [],
   "source": [
    "from sklearn.model_selection import train_test_split\n",
    "X_train, X_test, y_train, y_test = train_test_split(X, y, test_size=0.2, random_state=0)"
   ]
  },
  {
   "cell_type": "code",
   "execution_count": 15,
   "metadata": {},
   "outputs": [
    {
     "name": "stdout",
     "output_type": "stream",
     "text": [
      "(86503, 28) (21626, 28)\n"
     ]
    }
   ],
   "source": [
    "print(X_train.shape, X_test.shape)"
   ]
  },
  {
   "cell_type": "code",
   "execution_count": 16,
   "metadata": {},
   "outputs": [],
   "source": [
    "from sklearn.preprocessing import StandardScaler\n",
    "sc = StandardScaler()\n",
    "X_train = sc.fit_transform(X_train)\n",
    "X_test = sc.fit_transform(X_test)"
   ]
  },
  {
   "cell_type": "code",
   "execution_count": 17,
   "metadata": {},
   "outputs": [
    {
     "name": "stderr",
     "output_type": "stream",
     "text": [
      "Using TensorFlow backend.\n"
     ]
    }
   ],
   "source": [
    "import warnings\n",
    "warnings.filterwarnings('ignore')\n",
    "import keras\n",
    "from keras.models import Sequential\n",
    "from keras.layers import Dense\n",
    "from keras.layers import Dropout\n",
    "from keras import optimizers\n",
    "#The simplest type of model is the Sequential model, a linear stack of layers. "
   ]
  },
  {
   "cell_type": "code",
   "execution_count": 18,
   "metadata": {},
   "outputs": [],
   "source": [
    "classifier = Sequential()\n",
    "\n",
    "#Adding the input layer and the first hidden layer with dropout\n",
    "classifier.add(Dense(activation=\"selu\", kernel_initializer=\"uniform\", input_dim=X_train.shape[1], units=X_train.shape[1]//2))\n",
    "classifier.add(Dropout(rate = 0.2))\n",
    "\n",
    "#Adding the second hidden layer\n",
    "classifier.add(Dense(activation=\"selu\", kernel_initializer=\"uniform\", units=X_train.shape[1]//2))\n",
    "classifier.add(Dropout(rate = 0.2))\n",
    "\n",
    "#Adding the third hidden layer\n",
    "classifier.add(Dense(activation=\"selu\", kernel_initializer=\"uniform\", units=6))\n",
    "classifier.add(Dropout(rate = 0.1))\n",
    "\n",
    "#Adding the output layer\n",
    "classifier.add(Dense(activation=\"sigmoid\", kernel_initializer=\"uniform\", units=1))\n",
    "\n",
    "#Compiling the ANN\n",
    "#sgd = optimizers.SGD(lr=0.1, decay=1e-6, momentum=0.9, nesterov=True)\n",
    "classifier.compile(optimizer = 'adam', loss = \"binary_crossentropy\", metrics=[\"accuracy\"])"
   ]
  },
  {
   "cell_type": "code",
   "execution_count": 19,
   "metadata": {},
   "outputs": [
    {
     "name": "stdout",
     "output_type": "stream",
     "text": [
      "Epoch 1/50\n",
      "86503/86503 [==============================] - 4s 49us/step - loss: 0.4719 - acc: 0.7805\n",
      "Epoch 2/50\n",
      "86503/86503 [==============================] - 4s 44us/step - loss: 0.3938 - acc: 0.8132\n",
      "Epoch 3/50\n",
      "86503/86503 [==============================] - 4s 47us/step - loss: 0.3750 - acc: 0.8187\n",
      "Epoch 4/50\n",
      "86503/86503 [==============================] - 4s 46us/step - loss: 0.3671 - acc: 0.8215\n",
      "Epoch 5/50\n",
      "86503/86503 [==============================] - 4s 46us/step - loss: 0.3575 - acc: 0.8287\n",
      "Epoch 6/50\n",
      "86503/86503 [==============================] - 4s 45us/step - loss: 0.3552 - acc: 0.8298\n",
      "Epoch 7/50\n",
      "86503/86503 [==============================] - 4s 43us/step - loss: 0.3520 - acc: 0.8316\n",
      "Epoch 8/50\n",
      "86503/86503 [==============================] - 4s 46us/step - loss: 0.3503 - acc: 0.8336\n",
      "Epoch 9/50\n",
      "86503/86503 [==============================] - 4s 43us/step - loss: 0.3452 - acc: 0.8375\n",
      "Epoch 10/50\n",
      "86503/86503 [==============================] - 4s 43us/step - loss: 0.3413 - acc: 0.8407\n",
      "Epoch 11/50\n",
      "86503/86503 [==============================] - 4s 44us/step - loss: 0.3386 - acc: 0.8408\n",
      "Epoch 12/50\n",
      "86503/86503 [==============================] - 4s 43us/step - loss: 0.3358 - acc: 0.8442\n",
      "Epoch 13/50\n",
      "86503/86503 [==============================] - 4s 45us/step - loss: 0.3323 - acc: 0.8444\n",
      "Epoch 14/50\n",
      "86503/86503 [==============================] - 4s 48us/step - loss: 0.3298 - acc: 0.8456\n",
      "Epoch 15/50\n",
      "86503/86503 [==============================] - 4s 42us/step - loss: 0.3282 - acc: 0.8477\n",
      "Epoch 16/50\n",
      "86503/86503 [==============================] - 4s 43us/step - loss: 0.3264 - acc: 0.8477\n",
      "Epoch 17/50\n",
      "86503/86503 [==============================] - 4s 48us/step - loss: 0.3247 - acc: 0.8487\n",
      "Epoch 18/50\n",
      "86503/86503 [==============================] - 4s 44us/step - loss: 0.3241 - acc: 0.8482\n",
      "Epoch 19/50\n",
      "86503/86503 [==============================] - 4s 45us/step - loss: 0.3225 - acc: 0.8493\n",
      "Epoch 20/50\n",
      "86503/86503 [==============================] - 4s 45us/step - loss: 0.3215 - acc: 0.8498\n",
      "Epoch 21/50\n",
      "86503/86503 [==============================] - 4s 41us/step - loss: 0.3215 - acc: 0.8501\n",
      "Epoch 22/50\n",
      "86503/86503 [==============================] - 3s 40us/step - loss: 0.3201 - acc: 0.8511\n",
      "Epoch 23/50\n",
      "86503/86503 [==============================] - 4s 41us/step - loss: 0.3190 - acc: 0.8513\n",
      "Epoch 24/50\n",
      "86503/86503 [==============================] - 3s 40us/step - loss: 0.3197 - acc: 0.8516\n",
      "Epoch 25/50\n",
      "86503/86503 [==============================] - 4s 45us/step - loss: 0.3172 - acc: 0.8505\n",
      "Epoch 26/50\n",
      "86503/86503 [==============================] - 4s 42us/step - loss: 0.3159 - acc: 0.8524\n",
      "Epoch 27/50\n",
      "86503/86503 [==============================] - 4s 41us/step - loss: 0.3166 - acc: 0.8507\n",
      "Epoch 28/50\n",
      "86503/86503 [==============================] - 3s 40us/step - loss: 0.3141 - acc: 0.8518\n",
      "Epoch 29/50\n",
      "86503/86503 [==============================] - 4s 41us/step - loss: 0.3160 - acc: 0.8519\n",
      "Epoch 30/50\n",
      "86503/86503 [==============================] - 4s 43us/step - loss: 0.3152 - acc: 0.8524\n",
      "Epoch 31/50\n",
      "86503/86503 [==============================] - 4s 42us/step - loss: 0.3169 - acc: 0.8513\n",
      "Epoch 32/50\n",
      "86503/86503 [==============================] - 4s 46us/step - loss: 0.3117 - acc: 0.8539\n",
      "Epoch 33/50\n",
      "86503/86503 [==============================] - 4s 44us/step - loss: 0.3120 - acc: 0.8534\n",
      "Epoch 34/50\n",
      "86503/86503 [==============================] - 5s 53us/step - loss: 0.3126 - acc: 0.8543\n",
      "Epoch 35/50\n",
      "86503/86503 [==============================] - 4s 42us/step - loss: 0.3137 - acc: 0.8533\n",
      "Epoch 36/50\n",
      "86503/86503 [==============================] - 4s 41us/step - loss: 0.3111 - acc: 0.8536\n",
      "Epoch 37/50\n",
      "86503/86503 [==============================] - 4s 41us/step - loss: 0.3107 - acc: 0.8549\n",
      "Epoch 38/50\n",
      "86503/86503 [==============================] - 4s 41us/step - loss: 0.3113 - acc: 0.8549\n",
      "Epoch 39/50\n",
      "86503/86503 [==============================] - 4s 40us/step - loss: 0.3110 - acc: 0.8540\n",
      "Epoch 40/50\n",
      "86503/86503 [==============================] - 4s 41us/step - loss: 0.3085 - acc: 0.8555\n",
      "Epoch 41/50\n",
      "86503/86503 [==============================] - 4s 43us/step - loss: 0.3100 - acc: 0.8546\n",
      "Epoch 42/50\n",
      "86503/86503 [==============================] - 4s 42us/step - loss: 0.3091 - acc: 0.8552\n",
      "Epoch 43/50\n",
      "86503/86503 [==============================] - 4s 42us/step - loss: 0.3084 - acc: 0.8556\n",
      "Epoch 44/50\n",
      "86503/86503 [==============================] - 4s 41us/step - loss: 0.3079 - acc: 0.8559\n",
      "Epoch 45/50\n",
      "86503/86503 [==============================] - 4s 48us/step - loss: 0.3094 - acc: 0.8559\n",
      "Epoch 46/50\n",
      "86503/86503 [==============================] - 4s 47us/step - loss: 0.3057 - acc: 0.8564\n",
      "Epoch 47/50\n",
      "86503/86503 [==============================] - 4s 50us/step - loss: 0.3079 - acc: 0.8560\n",
      "Epoch 48/50\n",
      "86503/86503 [==============================] - 4s 44us/step - loss: 0.3069 - acc: 0.8565\n",
      "Epoch 49/50\n",
      "86503/86503 [==============================] - 4s 45us/step - loss: 0.3061 - acc: 0.8574\n",
      "Epoch 50/50\n",
      "86503/86503 [==============================] - 4s 45us/step - loss: 0.3062 - acc: 0.8556\n"
     ]
    },
    {
     "data": {
      "text/plain": [
       "<keras.callbacks.History at 0x22a0ff3c668>"
      ]
     },
     "execution_count": 19,
     "metadata": {},
     "output_type": "execute_result"
    }
   ],
   "source": [
    "classifier.fit(X_train, y_train, batch_size=50, epochs=50)"
   ]
  },
  {
   "cell_type": "code",
   "execution_count": 20,
   "metadata": {},
   "outputs": [],
   "source": [
    "y_pred = classifier.predict(X_test)\n",
    "y_pred = (y_pred > 0.5)"
   ]
  },
  {
   "cell_type": "code",
   "execution_count": 21,
   "metadata": {},
   "outputs": [
    {
     "name": "stdout",
     "output_type": "stream",
     "text": [
      "             precision    recall  f1-score   support\n",
      "\n",
      "          0       0.79      0.95      0.86     14824\n",
      "          1       0.82      0.44      0.57      6802\n",
      "\n",
      "avg / total       0.80      0.79      0.77     21626\n",
      "\n"
     ]
    }
   ],
   "source": [
    "from sklearn.metrics import classification_report\n",
    "print(classification_report(y_test, y_pred, target_names=['0','1']))"
   ]
  },
  {
   "cell_type": "code",
   "execution_count": null,
   "metadata": {
    "collapsed": true
   },
   "outputs": [],
   "source": []
  }
 ],
 "metadata": {
  "anaconda-cloud": {},
  "kernelspec": {
   "display_name": "Python 3",
   "language": "python",
   "name": "python3"
  },
  "language_info": {
   "codemirror_mode": {
    "name": "ipython",
    "version": 3
   },
   "file_extension": ".py",
   "mimetype": "text/x-python",
   "name": "python",
   "nbconvert_exporter": "python",
   "pygments_lexer": "ipython3",
   "version": "3.6.3"
  }
 },
 "nbformat": 4,
 "nbformat_minor": 2
}
